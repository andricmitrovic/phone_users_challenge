{
 "cells": [
  {
   "cell_type": "code",
   "execution_count": 1,
   "id": "284c3fc8-bcc5-410d-995a-554050eb93f1",
   "metadata": {},
   "outputs": [],
   "source": [
    "import pandas as pd\n",
    "import numpy as np\n",
    "from sklearn.linear_model import LinearRegression, LassoCV\n",
    "from sklearn.preprocessing import PolynomialFeatures\n",
    "from sklearn.preprocessing import OneHotEncoder, StandardScaler\n",
    "from sklearn.metrics import mean_squared_error as mse\n",
    "from sklearn.model_selection import KFold, cross_val_score\n",
    "from sklearn.decomposition import PCA\n",
    "import matplotlib.pyplot as plt\n",
    "from mlxtend.feature_selection import SequentialFeatureSelector as SFS\n",
    "from sklearn.ensemble import RandomForestRegressor\n",
    "from sklearn.model_selection import GridSearchCV"
   ]
  },
  {
   "cell_type": "code",
   "execution_count": 2,
   "id": "ae1e32f5-91af-472a-b4a0-29cc7f531fac",
   "metadata": {},
   "outputs": [],
   "source": [
    "train = pd.read_csv('phone_train.csv')\n",
    "test = pd.read_csv('phone_validation.csv')"
   ]
  },
  {
   "cell_type": "code",
   "execution_count": 3,
   "id": "d34f83e5-0706-4508-8c02-b725dc716150",
   "metadata": {
    "scrolled": true
   },
   "outputs": [
    {
     "data": {
      "text/html": [
       "<div>\n",
       "<style scoped>\n",
       "    .dataframe tbody tr th:only-of-type {\n",
       "        vertical-align: middle;\n",
       "    }\n",
       "\n",
       "    .dataframe tbody tr th {\n",
       "        vertical-align: top;\n",
       "    }\n",
       "\n",
       "    .dataframe thead th {\n",
       "        text-align: right;\n",
       "    }\n",
       "</style>\n",
       "<table border=\"1\" class=\"dataframe\">\n",
       "  <thead>\n",
       "    <tr style=\"text-align: right;\">\n",
       "      <th></th>\n",
       "      <th>tariff.plan</th>\n",
       "      <th>payment.method</th>\n",
       "      <th>sex</th>\n",
       "      <th>age</th>\n",
       "      <th>activation.zone</th>\n",
       "      <th>activation.channel</th>\n",
       "      <th>vas1</th>\n",
       "      <th>vas2</th>\n",
       "      <th>q01.out.ch.peak</th>\n",
       "      <th>q01.out.dur.peak</th>\n",
       "      <th>...</th>\n",
       "      <th>q09.out.dur.peak</th>\n",
       "      <th>q09.out.val.peak</th>\n",
       "      <th>q09.out.ch.offpeak</th>\n",
       "      <th>q09.out.dur.offpeak</th>\n",
       "      <th>q09.out.val.offpeak</th>\n",
       "      <th>q09.in.ch.tot</th>\n",
       "      <th>q09.in.dur.tot</th>\n",
       "      <th>q09.ch.sms</th>\n",
       "      <th>q09.ch.cc</th>\n",
       "      <th>y</th>\n",
       "    </tr>\n",
       "  </thead>\n",
       "  <tbody>\n",
       "    <tr>\n",
       "      <th>0</th>\n",
       "      <td>6</td>\n",
       "      <td>Carta di Credito</td>\n",
       "      <td>M</td>\n",
       "      <td>34.29</td>\n",
       "      <td>3</td>\n",
       "      <td>5</td>\n",
       "      <td>N</td>\n",
       "      <td>N</td>\n",
       "      <td>82</td>\n",
       "      <td>6390</td>\n",
       "      <td>...</td>\n",
       "      <td>6786</td>\n",
       "      <td>31.0132</td>\n",
       "      <td>0</td>\n",
       "      <td>0</td>\n",
       "      <td>0.0</td>\n",
       "      <td>65</td>\n",
       "      <td>8224</td>\n",
       "      <td>0</td>\n",
       "      <td>0</td>\n",
       "      <td>253</td>\n",
       "    </tr>\n",
       "    <tr>\n",
       "      <th>1</th>\n",
       "      <td>8</td>\n",
       "      <td>Carta di Credito</td>\n",
       "      <td>M</td>\n",
       "      <td>22.78</td>\n",
       "      <td>2</td>\n",
       "      <td>9</td>\n",
       "      <td>N</td>\n",
       "      <td>N</td>\n",
       "      <td>0</td>\n",
       "      <td>0</td>\n",
       "      <td>...</td>\n",
       "      <td>841</td>\n",
       "      <td>5.9625</td>\n",
       "      <td>0</td>\n",
       "      <td>0</td>\n",
       "      <td>0.0</td>\n",
       "      <td>32</td>\n",
       "      <td>1154</td>\n",
       "      <td>1</td>\n",
       "      <td>0</td>\n",
       "      <td>88</td>\n",
       "    </tr>\n",
       "    <tr>\n",
       "      <th>2</th>\n",
       "      <td>7</td>\n",
       "      <td>Carta di Credito</td>\n",
       "      <td>B</td>\n",
       "      <td>26.95</td>\n",
       "      <td>3</td>\n",
       "      <td>5</td>\n",
       "      <td>Y</td>\n",
       "      <td>N</td>\n",
       "      <td>244</td>\n",
       "      <td>57651</td>\n",
       "      <td>...</td>\n",
       "      <td>72632</td>\n",
       "      <td>252.4844</td>\n",
       "      <td>0</td>\n",
       "      <td>0</td>\n",
       "      <td>0.0</td>\n",
       "      <td>86</td>\n",
       "      <td>13972</td>\n",
       "      <td>0</td>\n",
       "      <td>4</td>\n",
       "      <td>6068</td>\n",
       "    </tr>\n",
       "    <tr>\n",
       "      <th>3</th>\n",
       "      <td>6</td>\n",
       "      <td>Domiciliazione Bancaria</td>\n",
       "      <td>B</td>\n",
       "      <td>46.09</td>\n",
       "      <td>2</td>\n",
       "      <td>5</td>\n",
       "      <td>Y</td>\n",
       "      <td>N</td>\n",
       "      <td>331</td>\n",
       "      <td>25233</td>\n",
       "      <td>...</td>\n",
       "      <td>26602</td>\n",
       "      <td>113.8906</td>\n",
       "      <td>0</td>\n",
       "      <td>0</td>\n",
       "      <td>0.0</td>\n",
       "      <td>410</td>\n",
       "      <td>51426</td>\n",
       "      <td>0</td>\n",
       "      <td>0</td>\n",
       "      <td>1556</td>\n",
       "    </tr>\n",
       "    <tr>\n",
       "      <th>4</th>\n",
       "      <td>8</td>\n",
       "      <td>Bollettino Postale</td>\n",
       "      <td>M</td>\n",
       "      <td>23.77</td>\n",
       "      <td>2</td>\n",
       "      <td>5</td>\n",
       "      <td>Y</td>\n",
       "      <td>N</td>\n",
       "      <td>0</td>\n",
       "      <td>0</td>\n",
       "      <td>...</td>\n",
       "      <td>0</td>\n",
       "      <td>0.0000</td>\n",
       "      <td>0</td>\n",
       "      <td>0</td>\n",
       "      <td>0.0</td>\n",
       "      <td>0</td>\n",
       "      <td>0</td>\n",
       "      <td>0</td>\n",
       "      <td>0</td>\n",
       "      <td>0</td>\n",
       "    </tr>\n",
       "  </tbody>\n",
       "</table>\n",
       "<p>5 rows × 99 columns</p>\n",
       "</div>"
      ],
      "text/plain": [
       "   tariff.plan           payment.method sex    age  activation.zone  \\\n",
       "0            6         Carta di Credito   M  34.29                3   \n",
       "1            8         Carta di Credito   M  22.78                2   \n",
       "2            7         Carta di Credito   B  26.95                3   \n",
       "3            6  Domiciliazione Bancaria   B  46.09                2   \n",
       "4            8       Bollettino Postale   M  23.77                2   \n",
       "\n",
       "   activation.channel vas1 vas2  q01.out.ch.peak  q01.out.dur.peak  ...  \\\n",
       "0                   5    N    N               82              6390  ...   \n",
       "1                   9    N    N                0                 0  ...   \n",
       "2                   5    Y    N              244             57651  ...   \n",
       "3                   5    Y    N              331             25233  ...   \n",
       "4                   5    Y    N                0                 0  ...   \n",
       "\n",
       "   q09.out.dur.peak  q09.out.val.peak  q09.out.ch.offpeak  \\\n",
       "0              6786           31.0132                   0   \n",
       "1               841            5.9625                   0   \n",
       "2             72632          252.4844                   0   \n",
       "3             26602          113.8906                   0   \n",
       "4                 0            0.0000                   0   \n",
       "\n",
       "   q09.out.dur.offpeak  q09.out.val.offpeak  q09.in.ch.tot  q09.in.dur.tot  \\\n",
       "0                    0                  0.0             65            8224   \n",
       "1                    0                  0.0             32            1154   \n",
       "2                    0                  0.0             86           13972   \n",
       "3                    0                  0.0            410           51426   \n",
       "4                    0                  0.0              0               0   \n",
       "\n",
       "   q09.ch.sms  q09.ch.cc     y  \n",
       "0           0          0   253  \n",
       "1           1          0    88  \n",
       "2           0          4  6068  \n",
       "3           0          0  1556  \n",
       "4           0          0     0  \n",
       "\n",
       "[5 rows x 99 columns]"
      ]
     },
     "execution_count": 3,
     "metadata": {},
     "output_type": "execute_result"
    }
   ],
   "source": [
    "train.head()"
   ]
  },
  {
   "cell_type": "code",
   "execution_count": 4,
   "id": "64af8b59-0b53-4633-8304-8d940dfdab7b",
   "metadata": {},
   "outputs": [
    {
     "data": {
      "text/html": [
       "<div>\n",
       "<style scoped>\n",
       "    .dataframe tbody tr th:only-of-type {\n",
       "        vertical-align: middle;\n",
       "    }\n",
       "\n",
       "    .dataframe tbody tr th {\n",
       "        vertical-align: top;\n",
       "    }\n",
       "\n",
       "    .dataframe thead th {\n",
       "        text-align: right;\n",
       "    }\n",
       "</style>\n",
       "<table border=\"1\" class=\"dataframe\">\n",
       "  <thead>\n",
       "    <tr style=\"text-align: right;\">\n",
       "      <th></th>\n",
       "      <th>tariff.plan</th>\n",
       "      <th>payment.method</th>\n",
       "      <th>sex</th>\n",
       "      <th>age</th>\n",
       "      <th>activation.zone</th>\n",
       "      <th>activation.channel</th>\n",
       "      <th>vas1</th>\n",
       "      <th>vas2</th>\n",
       "      <th>q01.out.ch.peak</th>\n",
       "      <th>q01.out.dur.peak</th>\n",
       "      <th>...</th>\n",
       "      <th>q09.out.ch.peak</th>\n",
       "      <th>q09.out.dur.peak</th>\n",
       "      <th>q09.out.val.peak</th>\n",
       "      <th>q09.out.ch.offpeak</th>\n",
       "      <th>q09.out.dur.offpeak</th>\n",
       "      <th>q09.out.val.offpeak</th>\n",
       "      <th>q09.in.ch.tot</th>\n",
       "      <th>q09.in.dur.tot</th>\n",
       "      <th>q09.ch.sms</th>\n",
       "      <th>q09.ch.cc</th>\n",
       "    </tr>\n",
       "  </thead>\n",
       "  <tbody>\n",
       "    <tr>\n",
       "      <th>0</th>\n",
       "      <td>6</td>\n",
       "      <td>Domiciliazione Bancaria</td>\n",
       "      <td>B</td>\n",
       "      <td>34.62</td>\n",
       "      <td>4</td>\n",
       "      <td>5</td>\n",
       "      <td>N</td>\n",
       "      <td>N</td>\n",
       "      <td>77</td>\n",
       "      <td>4384</td>\n",
       "      <td>...</td>\n",
       "      <td>100</td>\n",
       "      <td>4717</td>\n",
       "      <td>26.2562</td>\n",
       "      <td>0</td>\n",
       "      <td>0</td>\n",
       "      <td>0.0000</td>\n",
       "      <td>86</td>\n",
       "      <td>3323</td>\n",
       "      <td>0</td>\n",
       "      <td>0</td>\n",
       "    </tr>\n",
       "    <tr>\n",
       "      <th>1</th>\n",
       "      <td>3</td>\n",
       "      <td>Domiciliazione Bancaria</td>\n",
       "      <td>B</td>\n",
       "      <td>38.09</td>\n",
       "      <td>3</td>\n",
       "      <td>5</td>\n",
       "      <td>Y</td>\n",
       "      <td>N</td>\n",
       "      <td>32</td>\n",
       "      <td>2056</td>\n",
       "      <td>...</td>\n",
       "      <td>25</td>\n",
       "      <td>3268</td>\n",
       "      <td>18.4819</td>\n",
       "      <td>12</td>\n",
       "      <td>2195</td>\n",
       "      <td>6.8177</td>\n",
       "      <td>14</td>\n",
       "      <td>756</td>\n",
       "      <td>0</td>\n",
       "      <td>0</td>\n",
       "    </tr>\n",
       "    <tr>\n",
       "      <th>2</th>\n",
       "      <td>6</td>\n",
       "      <td>Bollettino Postale</td>\n",
       "      <td>B</td>\n",
       "      <td>34.62</td>\n",
       "      <td>4</td>\n",
       "      <td>5</td>\n",
       "      <td>N</td>\n",
       "      <td>N</td>\n",
       "      <td>23</td>\n",
       "      <td>1553</td>\n",
       "      <td>...</td>\n",
       "      <td>57</td>\n",
       "      <td>3479</td>\n",
       "      <td>17.7109</td>\n",
       "      <td>0</td>\n",
       "      <td>0</td>\n",
       "      <td>0.0000</td>\n",
       "      <td>12</td>\n",
       "      <td>592</td>\n",
       "      <td>0</td>\n",
       "      <td>0</td>\n",
       "    </tr>\n",
       "    <tr>\n",
       "      <th>3</th>\n",
       "      <td>6</td>\n",
       "      <td>Bollettino Postale</td>\n",
       "      <td>B</td>\n",
       "      <td>32.32</td>\n",
       "      <td>3</td>\n",
       "      <td>5</td>\n",
       "      <td>N</td>\n",
       "      <td>N</td>\n",
       "      <td>202</td>\n",
       "      <td>9063</td>\n",
       "      <td>...</td>\n",
       "      <td>65</td>\n",
       "      <td>4358</td>\n",
       "      <td>21.3162</td>\n",
       "      <td>0</td>\n",
       "      <td>0</td>\n",
       "      <td>0.0000</td>\n",
       "      <td>204</td>\n",
       "      <td>8910</td>\n",
       "      <td>0</td>\n",
       "      <td>5</td>\n",
       "    </tr>\n",
       "    <tr>\n",
       "      <th>4</th>\n",
       "      <td>6</td>\n",
       "      <td>Carta di Credito</td>\n",
       "      <td>B</td>\n",
       "      <td>35.77</td>\n",
       "      <td>3</td>\n",
       "      <td>5</td>\n",
       "      <td>N</td>\n",
       "      <td>N</td>\n",
       "      <td>134</td>\n",
       "      <td>9363</td>\n",
       "      <td>...</td>\n",
       "      <td>29</td>\n",
       "      <td>1606</td>\n",
       "      <td>8.4544</td>\n",
       "      <td>0</td>\n",
       "      <td>0</td>\n",
       "      <td>0.0000</td>\n",
       "      <td>23</td>\n",
       "      <td>918</td>\n",
       "      <td>0</td>\n",
       "      <td>0</td>\n",
       "    </tr>\n",
       "  </tbody>\n",
       "</table>\n",
       "<p>5 rows × 98 columns</p>\n",
       "</div>"
      ],
      "text/plain": [
       "   tariff.plan           payment.method sex    age  activation.zone  \\\n",
       "0            6  Domiciliazione Bancaria   B  34.62                4   \n",
       "1            3  Domiciliazione Bancaria   B  38.09                3   \n",
       "2            6       Bollettino Postale   B  34.62                4   \n",
       "3            6       Bollettino Postale   B  32.32                3   \n",
       "4            6         Carta di Credito   B  35.77                3   \n",
       "\n",
       "   activation.channel vas1 vas2  q01.out.ch.peak  q01.out.dur.peak  ...  \\\n",
       "0                   5    N    N               77              4384  ...   \n",
       "1                   5    Y    N               32              2056  ...   \n",
       "2                   5    N    N               23              1553  ...   \n",
       "3                   5    N    N              202              9063  ...   \n",
       "4                   5    N    N              134              9363  ...   \n",
       "\n",
       "   q09.out.ch.peak  q09.out.dur.peak  q09.out.val.peak  q09.out.ch.offpeak  \\\n",
       "0              100              4717           26.2562                   0   \n",
       "1               25              3268           18.4819                  12   \n",
       "2               57              3479           17.7109                   0   \n",
       "3               65              4358           21.3162                   0   \n",
       "4               29              1606            8.4544                   0   \n",
       "\n",
       "   q09.out.dur.offpeak  q09.out.val.offpeak  q09.in.ch.tot  q09.in.dur.tot  \\\n",
       "0                    0               0.0000             86            3323   \n",
       "1                 2195               6.8177             14             756   \n",
       "2                    0               0.0000             12             592   \n",
       "3                    0               0.0000            204            8910   \n",
       "4                    0               0.0000             23             918   \n",
       "\n",
       "   q09.ch.sms  q09.ch.cc  \n",
       "0           0          0  \n",
       "1           0          0  \n",
       "2           0          0  \n",
       "3           0          5  \n",
       "4           0          0  \n",
       "\n",
       "[5 rows x 98 columns]"
      ]
     },
     "execution_count": 4,
     "metadata": {},
     "output_type": "execute_result"
    }
   ],
   "source": [
    "test.head()"
   ]
  },
  {
   "cell_type": "markdown",
   "id": "8fe798aa-ec8e-4ff0-a8f5-ba86b8044fb3",
   "metadata": {},
   "source": [
    "## Qualitative features"
   ]
  },
  {
   "cell_type": "code",
   "execution_count": 5,
   "id": "d04840aa-294c-4684-9952-6ef895b3bdf7",
   "metadata": {},
   "outputs": [
    {
     "name": "stdout",
     "output_type": "stream",
     "text": [
      "tariff.plan: [6 8 7 3 4]\n",
      "payment.method: ['Carta di Credito' 'Domiciliazione Bancaria' 'Bollettino Postale']\n",
      "sex: ['M' 'B' 'F']\n",
      "activation.zone: [3 2 1 4]\n",
      "activation.channel: [5 9 7 3 8 2 4 6]\n",
      "vas1: ['N' 'Y']\n",
      "vas2: ['N' 'Y']\n"
     ]
    }
   ],
   "source": [
    "qualitative_features = ['tariff.plan', 'payment.method', 'sex', 'activation.zone', 'activation.channel', 'vas1', 'vas2']\n",
    "for feature in qualitative_features:\n",
    "    print(f\"{feature}: {train[feature].unique()}\")"
   ]
  },
  {
   "cell_type": "code",
   "execution_count": 6,
   "id": "c26c9106-5128-4a3e-9b38-760cdabb1c9a",
   "metadata": {},
   "outputs": [
    {
     "name": "stdout",
     "output_type": "stream",
     "text": [
      "tariff.plan: [6 8 7 3 4]\n",
      "payment.method: ['Carta di Credito' 'Domiciliazione Bancaria' 'Bollettino Postale']\n",
      "sex: ['M' 'B' 'F']\n",
      "activation.zone: [3 2 1 4]\n",
      "activation.channel: [5 9 7 3 8 2 4 6]\n",
      "vas1: ['N' 'Y']\n",
      "vas2: ['N' 'Y']\n"
     ]
    }
   ],
   "source": [
    "qualitative_features = ['tariff.plan', 'payment.method', 'sex', 'activation.zone', 'activation.channel', 'vas1', 'vas2']\n",
    "for feature in qualitative_features:\n",
    "    print(f\"{feature}: {train[feature].unique()}\")"
   ]
  },
  {
   "cell_type": "markdown",
   "id": "888e568e-bca4-4ebd-ad5c-4fe08f6e7177",
   "metadata": {},
   "source": [
    "##### Assume a domain expert told us that tariff.plan is an ordinal data so it would be wrong to methods such as one hot encoding. In this way we would lose the information about the ordinal relationship between values in this feature."
   ]
  },
  {
   "cell_type": "markdown",
   "id": "d4ba2ada-8805-4d4c-b8df-9c948c4b4d9c",
   "metadata": {},
   "source": [
    "##### The rest of the features are nominal (i assume numbers in activation zone represent like an id of a geographic area and have no ordinal relationship) and we use one-hot encoding to get a separate boolean feature for each value associated to each feature"
   ]
  },
  {
   "cell_type": "markdown",
   "id": "8c13c304-65c4-4759-982f-cb5d0d733ede",
   "metadata": {},
   "source": [
    "#### Since activation zone has an additional value in validation set, we can either assume its an ordinal value and ignore transforming it or maybe look into rows that have activation zone set to 0 and see if they are errors and drop those rows. Here we assume its an ordinal value."
   ]
  },
  {
   "cell_type": "code",
   "execution_count": 7,
   "id": "e9c68121-33cc-4ab7-9ef8-5fe933d7bff1",
   "metadata": {},
   "outputs": [],
   "source": [
    "nominal_features = ['payment.method', 'sex', 'activation.channel', 'vas1', 'vas2']"
   ]
  },
  {
   "cell_type": "code",
   "execution_count": 8,
   "id": "637881b6-5bee-4c6a-a1a9-37f0069eac08",
   "metadata": {},
   "outputs": [],
   "source": [
    "encoder = OneHotEncoder(drop='first', sparse_output=False)"
   ]
  },
  {
   "cell_type": "code",
   "execution_count": 9,
   "id": "cab74a30-b4a6-41a7-a498-c10b2e67eda4",
   "metadata": {},
   "outputs": [],
   "source": [
    "train_encoded = pd.DataFrame(encoder.fit_transform(train[nominal_features]), columns=encoder.get_feature_names_out(nominal_features))\n",
    "test_encoded = pd.DataFrame(encoder.transform(test[nominal_features]), columns=encoder.get_feature_names_out(nominal_features))\n",
    "train = train.drop(columns=nominal_features).join(train_encoded)\n",
    "test = test.drop(columns=nominal_features).join(test_encoded)"
   ]
  },
  {
   "cell_type": "code",
   "execution_count": 10,
   "id": "109bdb09-4196-4454-9ef2-815235f914eb",
   "metadata": {},
   "outputs": [],
   "source": [
    "X_train = train.drop(columns=['y'])\n",
    "y_train_log = np.log(train['y'] + 1)\n",
    "X_test = test"
   ]
  },
  {
   "cell_type": "markdown",
   "id": "b9ab3b9a-8aa5-47a6-802f-7de9362ca0e9",
   "metadata": {},
   "source": [
    "### Scaling data"
   ]
  },
  {
   "cell_type": "code",
   "execution_count": 11,
   "id": "10d489dd-f4a3-4396-8e5b-51397f26856a",
   "metadata": {},
   "outputs": [],
   "source": [
    "sc = StandardScaler()"
   ]
  },
  {
   "cell_type": "code",
   "execution_count": 12,
   "id": "ee5d9750-ea8e-438a-a33b-956c3a3dd14c",
   "metadata": {},
   "outputs": [],
   "source": [
    "X_train = pd.DataFrame(sc.fit_transform(X_train), columns=X_train.columns)\n",
    "X_test = pd.DataFrame(sc.transform(X_test), columns=X_test.columns)"
   ]
  },
  {
   "cell_type": "markdown",
   "id": "6c018e23-1b58-414d-9f69-4c614f16cae4",
   "metadata": {},
   "source": [
    "#### Using kfold cross validation for mse estimate"
   ]
  },
  {
   "cell_type": "code",
   "execution_count": 13,
   "id": "98df5e8b-85bb-4cf1-8d1b-4ec366e380c7",
   "metadata": {},
   "outputs": [],
   "source": [
    "kf = KFold(n_splits=5, shuffle=True, random_state=42)"
   ]
  },
  {
   "cell_type": "markdown",
   "id": "5cdcff21-e140-4a5c-822d-b3d2cf7fa83e",
   "metadata": {},
   "source": [
    "### Baseline model: Linear regression using all features"
   ]
  },
  {
   "cell_type": "code",
   "execution_count": 14,
   "id": "8c9d9844-e589-4e99-baff-911e02bf3873",
   "metadata": {},
   "outputs": [],
   "source": [
    "model = LinearRegression()\n",
    "mse_scores = -cross_val_score(model, X_train, y_train_log, cv=kf, scoring='neg_mean_squared_error')"
   ]
  },
  {
   "cell_type": "code",
   "execution_count": 15,
   "id": "6224d96a-82cc-48a2-91e1-19668e7e97d2",
   "metadata": {},
   "outputs": [
    {
     "name": "stdout",
     "output_type": "stream",
     "text": [
      "Mean Squared Error: 6.10065399724717\n"
     ]
    }
   ],
   "source": [
    "print(f'Mean Squared Error: {mse_scores.mean()}')"
   ]
  },
  {
   "cell_type": "markdown",
   "id": "ec706b06-f945-46b1-80aa-93fb0b996777",
   "metadata": {},
   "source": [
    "#### Dimensionality problem: We have too many features 106!!!"
   ]
  },
  {
   "cell_type": "code",
   "execution_count": 16,
   "id": "899dc04e-ef2d-45bf-856e-64024838f16c",
   "metadata": {},
   "outputs": [
    {
     "name": "stdout",
     "output_type": "stream",
     "text": [
      "106\n"
     ]
    }
   ],
   "source": [
    "print(len(X_train.columns))"
   ]
  },
  {
   "cell_type": "markdown",
   "id": "ad85ca1a-3c1e-4fe9-8310-f88ceb805ee5",
   "metadata": {},
   "source": [
    "#### Lets use PCA for dimensionality reduction"
   ]
  },
  {
   "cell_type": "code",
   "execution_count": 17,
   "id": "4cbe0d90-089f-44a9-893c-64990b6fef3c",
   "metadata": {},
   "outputs": [],
   "source": [
    "pca = PCA()\n",
    "pca_components = pca.fit_transform(X_train)"
   ]
  },
  {
   "cell_type": "code",
   "execution_count": 18,
   "id": "56b33cf7-1feb-477a-ae40-597001fb35eb",
   "metadata": {},
   "outputs": [],
   "source": [
    "cumulative_variance = np.cumsum(pca.explained_variance_ratio_)"
   ]
  },
  {
   "cell_type": "code",
   "execution_count": 19,
   "id": "8e221355-a5d7-4547-842b-a9fed1b2619e",
   "metadata": {},
   "outputs": [
    {
     "data": {
      "image/png": "[encoded data removed]",
      "text/plain": [
       "<Figure size 800x600 with 1 Axes>"
      ]
     },
     "metadata": {},
     "output_type": "display_data"
    }
   ],
   "source": [
    "max_componenets = 80\n",
    "plt.figure(figsize=(8, 6))\n",
    "plt.plot(range(1, max_componenets), cumulative_variance[:max_componenets-1], marker='o', linestyle='--', color='b')\n",
    "plt.xlabel('Number of Components')\n",
    "plt.ylabel('Cumulative Explained Variance')\n",
    "plt.title('Number of Components vs. Explained Variance')\n",
    "plt.grid()\n",
    "plt.show()"
   ]
  },
  {
   "cell_type": "markdown",
   "id": "1e1ac924-0d8b-48a8-920f-643feddb9d80",
   "metadata": {},
   "source": [
    "#### Kfolds cross validation to decide on number of PCA componenets"
   ]
  },
  {
   "cell_type": "code",
   "execution_count": 20,
   "id": "1f9e8ea4-ddfc-4ab0-953b-74300c68e076",
   "metadata": {},
   "outputs": [],
   "source": [
    "n_components_range = range(20, 30)\n",
    "poly_degrees = [1, 2]\n",
    "mse_scores = {key: [] for key in poly_degrees}"
   ]
  },
  {
   "cell_type": "code",
   "execution_count": 21,
   "id": "9afeb522-6bd0-48bc-b75b-65a2b7e4363c",
   "metadata": {},
   "outputs": [],
   "source": [
    "for n in n_components_range:\n",
    "    pca = PCA(n_components=n)\n",
    "    pca_components = pca.fit_transform(X_train)\n",
    "    \n",
    "    for degree in poly_degrees:\n",
    "        poly = PolynomialFeatures(degree=degree)\n",
    "        X_poly = poly.fit_transform(pca_components)\n",
    "        mse = -cross_val_score(model, X_poly, y_train_log, cv=kf, scoring='neg_mean_squared_error').mean()\n",
    "        mse_scores[degree].append(mse)"
   ]
  },
  {
   "cell_type": "code",
   "execution_count": 22,
   "id": "27bc6b08-5bd3-4f00-810a-5e8def757359",
   "metadata": {
    "scrolled": true
   },
   "outputs": [
    {
     "data": {
      "image/png": "[encoded data removed]",
      "text/plain": [
       "<Figure size 1200x800 with 1 Axes>"
      ]
     },
     "metadata": {},
     "output_type": "display_data"
    }
   ],
   "source": [
    "plt.figure(figsize=(12, 8))\n",
    "plt.plot(n_components_range, mse_scores[1], marker='s', linestyle='-', label='Linear Regression')\n",
    "plt.plot(n_components_range, mse_scores[2], marker='^', linestyle='-', label='Polynomial Regression (p=2)')\n",
    "\n",
    "plt.xlabel('Number of PCA Components')\n",
    "plt.ylabel('Mean Squared Error')\n",
    "plt.title('Mean Squared Error vs. Number of PCA Components')\n",
    "plt.legend()\n",
    "plt.grid()\n",
    "plt.show()"
   ]
  },
  {
   "cell_type": "markdown",
   "id": "331d9672-a8f2-4435-8a04-f2470dbdae5c",
   "metadata": {},
   "source": [
    "#### Polynomial regression overfits -> we probably dont need a more complex model than a linear one "
   ]
  },
  {
   "cell_type": "markdown",
   "id": "2be3d942-e685-4650-8893-01486156fa3a",
   "metadata": {},
   "source": [
    "#### Because there are no improvements with PCA we use some other models that work well with high dimensional data"
   ]
  },
  {
   "cell_type": "markdown",
   "id": "3eb6c5c4-e1a4-46be-a654-f0faf32cc6a8",
   "metadata": {},
   "source": [
    "## Lasso"
   ]
  },
  {
   "cell_type": "code",
   "execution_count": 23,
   "id": "065d9ded-eff1-496a-8c9d-10d49f29aaea",
   "metadata": {},
   "outputs": [
    {
     "name": "stdout",
     "output_type": "stream",
     "text": [
      "Best alpha: 0.018738174228603847\n"
     ]
    }
   ],
   "source": [
    "lasso = LassoCV(alphas=np.logspace(-3, -1, 100), cv=5, random_state=42)\n",
    "lasso.fit(X_train, y_train_log)\n",
    "\n",
    "best_alpha = lasso.alpha_\n",
    "print(\"Best alpha:\", best_alpha)"
   ]
  },
  {
   "cell_type": "code",
   "execution_count": 24,
   "id": "b1ab93c1-3ff0-454a-bfc0-3d1f4847e37d",
   "metadata": {},
   "outputs": [
    {
     "name": "stdout",
     "output_type": "stream",
     "text": [
      "Best MSE: 5.9894101691874235\n"
     ]
    }
   ],
   "source": [
    "mse_path = lasso.mse_path_.mean(axis=1)\n",
    "print(f\"Best MSE: {min(mse_path)}\")"
   ]
  },
  {
   "cell_type": "code",
   "execution_count": 25,
   "id": "1a090eb8-2928-40ee-ab36-9ffb6a96d95f",
   "metadata": {},
   "outputs": [
    {
     "data": {
      "image/png": "[encoded data removed]",
      "text/plain": [
       "<Figure size 1000x600 with 1 Axes>"
      ]
     },
     "metadata": {},
     "output_type": "display_data"
    }
   ],
   "source": [
    "plt.figure(figsize=(10, 6))\n",
    "plt.plot(lasso.alphas_, mse_path, marker='o', linestyle='--')\n",
    "plt.xscale('log')\n",
    "plt.xlabel('Alpha (log scale)')\n",
    "plt.ylabel('Mean Squared Error')\n",
    "plt.title('MSE vs Alpha in Lasso Regression')\n",
    "plt.axvline(best_alpha, linestyle='--', color='r', label=f'Best Alpha: {best_alpha}')\n",
    "plt.legend()\n",
    "plt.grid()\n",
    "plt.show()"
   ]
  },
  {
   "cell_type": "code",
   "execution_count": 26,
   "id": "475742e5-a5e5-4258-98b2-a91dc5b6fb17",
   "metadata": {},
   "outputs": [
    {
     "name": "stdout",
     "output_type": "stream",
     "text": [
      "Selected features: ['tariff.plan' 'age' 'activation.zone' 'q01.out.ch.peak'\n",
      " 'q01.out.ch.offpeak' 'q01.out.val.offpeak' 'q02.ch.sms' 'q03.out.ch.peak'\n",
      " 'q04.out.ch.offpeak' 'q04.ch.sms' 'q04.ch.cc' 'q05.out.dur.peak'\n",
      " 'q05.out.val.offpeak' 'q06.out.ch.offpeak' 'q06.ch.cc'\n",
      " 'q07.out.dur.offpeak' 'q07.in.dur.tot' 'q07.ch.cc' 'q08.out.ch.peak'\n",
      " 'q08.out.ch.offpeak' 'q08.out.val.offpeak' 'q08.ch.cc' 'q09.out.ch.peak'\n",
      " 'q09.out.val.peak' 'q09.out.ch.offpeak' 'q09.out.val.offpeak'\n",
      " 'q09.in.ch.tot' 'q09.in.dur.tot' 'q09.ch.sms' 'q09.ch.cc'\n",
      " 'payment.method_Carta di Credito'\n",
      " 'payment.method_Domiciliazione Bancaria' 'sex_F' 'sex_M'\n",
      " 'activation.channel_8' 'activation.channel_9' 'vas1_Y' 'vas2_Y']\n",
      "Discarded features: ['q01.out.dur.peak' 'q01.out.val.peak' 'q01.out.dur.offpeak'\n",
      " 'q01.in.ch.tot' 'q01.in.dur.tot' 'q01.ch.sms' 'q01.ch.cc'\n",
      " 'q02.out.ch.peak' 'q02.out.dur.peak' 'q02.out.val.peak'\n",
      " 'q02.out.ch.offpeak' 'q02.out.dur.offpeak' 'q02.out.val.offpeak'\n",
      " 'q02.in.ch.tot' 'q02.in.dur.tot' 'q02.ch.cc' 'q03.out.dur.peak'\n",
      " 'q03.out.val.peak' 'q03.out.ch.offpeak' 'q03.out.dur.offpeak'\n",
      " 'q03.out.val.offpeak' 'q03.in.ch.tot' 'q03.in.dur.tot' 'q03.ch.sms'\n",
      " 'q03.ch.cc' 'q04.out.ch.peak' 'q04.out.dur.peak' 'q04.out.val.peak'\n",
      " 'q04.out.dur.offpeak' 'q04.out.val.offpeak' 'q04.in.ch.tot'\n",
      " 'q04.in.dur.tot' 'q05.out.ch.peak' 'q05.out.val.peak'\n",
      " 'q05.out.ch.offpeak' 'q05.out.dur.offpeak' 'q05.in.ch.tot'\n",
      " 'q05.in.dur.tot' 'q05.ch.sms' 'q05.ch.cc' 'q06.out.ch.peak'\n",
      " 'q06.out.dur.peak' 'q06.out.val.peak' 'q06.out.dur.offpeak'\n",
      " 'q06.out.val.offpeak' 'q06.in.ch.tot' 'q06.in.dur.tot' 'q06.ch.sms'\n",
      " 'q07.out.ch.peak' 'q07.out.dur.peak' 'q07.out.val.peak'\n",
      " 'q07.out.ch.offpeak' 'q07.out.val.offpeak' 'q07.in.ch.tot' 'q07.ch.sms'\n",
      " 'q08.out.dur.peak' 'q08.out.val.peak' 'q08.out.dur.offpeak'\n",
      " 'q08.in.ch.tot' 'q08.in.dur.tot' 'q08.ch.sms' 'q09.out.dur.peak'\n",
      " 'q09.out.dur.offpeak' 'activation.channel_3' 'activation.channel_4'\n",
      " 'activation.channel_5' 'activation.channel_6' 'activation.channel_7']\n"
     ]
    }
   ],
   "source": [
    "selected_features = np.array(X_train.columns)[lasso.coef_ != 0]\n",
    "discarded_features = np.array(X_train.columns)[lasso.coef_ == 0]\n",
    "\n",
    "print(\"Selected features:\", selected_features)\n",
    "print(\"Discarded features:\", discarded_features)"
   ]
  },
  {
   "cell_type": "markdown",
   "id": "8192a170-67ce-43f1-9698-f1bccafe6e64",
   "metadata": {},
   "source": [
    "### Random forests grid search"
   ]
  },
  {
   "cell_type": "code",
   "execution_count": 27,
   "id": "a90bcb0d-5284-4fc6-8ad5-149eadadff65",
   "metadata": {},
   "outputs": [],
   "source": [
    "param_grid = {\n",
    "    'n_estimators': [500, 1000],\n",
    "    'max_features': ['sqrt', 0.3],\n",
    "    'max_depth': [None, 10],\n",
    "    'min_samples_split': [2, 5],\n",
    "    'min_samples_leaf': [5],\n",
    "    'bootstrap': [True]\n",
    "}"
   ]
  },
  {
   "cell_type": "code",
   "execution_count": 28,
   "id": "b2b186b8-29d3-4333-bc00-fba50f947207",
   "metadata": {},
   "outputs": [],
   "source": [
    "rf = RandomForestRegressor(random_state=42)"
   ]
  },
  {
   "cell_type": "code",
   "execution_count": 29,
   "id": "9eadf077-c91d-4376-b9f6-1aba409b62eb",
   "metadata": {},
   "outputs": [
    {
     "name": "stdout",
     "output_type": "stream",
     "text": [
      "Fitting 3 folds for each of 16 candidates, totalling 48 fits\n"
     ]
    },
    {
     "data": {
      "text/html": [
       "<style>#sk-container-id-1 {\n",
       "  /* Definition of color scheme common for light and dark mode */\n",
       "  --sklearn-color-text: black;\n",
       "  --sklearn-color-line: gray;\n",
       "  /* Definition of color scheme for unfitted estimators */\n",
       "  --sklearn-color-unfitted-level-0: #fff5e6;\n",
       "  --sklearn-color-unfitted-level-1: #f6e4d2;\n",
       "  --sklearn-color-unfitted-level-2: #ffe0b3;\n",
       "  --sklearn-color-unfitted-level-3: chocolate;\n",
       "  /* Definition of color scheme for fitted estimators */\n",
       "  --sklearn-color-fitted-level-0: #f0f8ff;\n",
       "  --sklearn-color-fitted-level-1: #d4ebff;\n",
       "  --sklearn-color-fitted-level-2: #b3dbfd;\n",
       "  --sklearn-color-fitted-level-3: cornflowerblue;\n",
       "\n",
       "  /* Specific color for light theme */\n",
       "  --sklearn-color-text-on-default-background: var(--sg-text-color, var(--theme-code-foreground, var(--jp-content-font-color1, black)));\n",
       "  --sklearn-color-background: var(--sg-background-color, var(--theme-background, var(--jp-layout-color0, white)));\n",
       "  --sklearn-color-border-box: var(--sg-text-color, var(--theme-code-foreground, var(--jp-content-font-color1, black)));\n",
       "  --sklearn-color-icon: #696969;\n",
       "\n",
       "  @media (prefers-color-scheme: dark) {\n",
       "    /* Redefinition of color scheme for dark theme */\n",
       "    --sklearn-color-text-on-default-background: var(--sg-text-color, var(--theme-code-foreground, var(--jp-content-font-color1, white)));\n",
       "    --sklearn-color-background: var(--sg-background-color, var(--theme-background, var(--jp-layout-color0, #111)));\n",
       "    --sklearn-color-border-box: var(--sg-text-color, var(--theme-code-foreground, var(--jp-content-font-color1, white)));\n",
       "    --sklearn-color-icon: #878787;\n",
       "  }\n",
       "}\n",
       "\n",
       "#sk-container-id-1 {\n",
       "  color: var(--sklearn-color-text);\n",
       "}\n",
       "\n",
       "#sk-container-id-1 pre {\n",
       "  padding: 0;\n",
       "}\n",
       "\n",
       "#sk-container-id-1 input.sk-hidden--visually {\n",
       "  border: 0;\n",
       "  clip: rect(1px 1px 1px 1px);\n",
       "  clip: rect(1px, 1px, 1px, 1px);\n",
       "  height: 1px;\n",
       "  margin: -1px;\n",
       "  overflow: hidden;\n",
       "  padding: 0;\n",
       "  position: absolute;\n",
       "  width: 1px;\n",
       "}\n",
       "\n",
       "#sk-container-id-1 div.sk-dashed-wrapped {\n",
       "  border: 1px dashed var(--sklearn-color-line);\n",
       "  margin: 0 0.4em 0.5em 0.4em;\n",
       "  box-sizing: border-box;\n",
       "  padding-bottom: 0.4em;\n",
       "  background-color: var(--sklearn-color-background);\n",
       "}\n",
       "\n",
       "#sk-container-id-1 div.sk-container {\n",
       "  /* jupyter's `normalize.less` sets `[hidden] { display: none; }`\n",
       "     but bootstrap.min.css set `[hidden] { display: none !important; }`\n",
       "     so we also need the `!important` here to be able to override the\n",
       "     default hidden behavior on the sphinx rendered scikit-learn.org.\n",
       "     See: https://github.com/scikit-learn/scikit-learn/issues/21755 */\n",
       "  display: inline-block !important;\n",
       "  position: relative;\n",
       "}\n",
       "\n",
       "#sk-container-id-1 div.sk-text-repr-fallback {\n",
       "  display: none;\n",
       "}\n",
       "\n",
       "div.sk-parallel-item,\n",
       "div.sk-serial,\n",
       "div.sk-item {\n",
       "  /* draw centered vertical line to link estimators */\n",
       "  background-image: linear-gradient(var(--sklearn-color-text-on-default-background), var(--sklearn-color-text-on-default-background));\n",
       "  background-size: 2px 100%;\n",
       "  background-repeat: no-repeat;\n",
       "  background-position: center center;\n",
       "}\n",
       "\n",
       "/* Parallel-specific style estimator block */\n",
       "\n",
       "#sk-container-id-1 div.sk-parallel-item::after {\n",
       "  content: \"\";\n",
       "  width: 100%;\n",
       "  border-bottom: 2px solid var(--sklearn-color-text-on-default-background);\n",
       "  flex-grow: 1;\n",
       "}\n",
       "\n",
       "#sk-container-id-1 div.sk-parallel {\n",
       "  display: flex;\n",
       "  align-items: stretch;\n",
       "  justify-content: center;\n",
       "  background-color: var(--sklearn-color-background);\n",
       "  position: relative;\n",
       "}\n",
       "\n",
       "#sk-container-id-1 div.sk-parallel-item {\n",
       "  display: flex;\n",
       "  flex-direction: column;\n",
       "}\n",
       "\n",
       "#sk-container-id-1 div.sk-parallel-item:first-child::after {\n",
       "  align-self: flex-end;\n",
       "  width: 50%;\n",
       "}\n",
       "\n",
       "#sk-container-id-1 div.sk-parallel-item:last-child::after {\n",
       "  align-self: flex-start;\n",
       "  width: 50%;\n",
       "}\n",
       "\n",
       "#sk-container-id-1 div.sk-parallel-item:only-child::after {\n",
       "  width: 0;\n",
       "}\n",
       "\n",
       "/* Serial-specific style estimator block */\n",
       "\n",
       "#sk-container-id-1 div.sk-serial {\n",
       "  display: flex;\n",
       "  flex-direction: column;\n",
       "  align-items: center;\n",
       "  background-color: var(--sklearn-color-background);\n",
       "  padding-right: 1em;\n",
       "  padding-left: 1em;\n",
       "}\n",
       "\n",
       "\n",
       "/* Toggleable style: style used for estimator/Pipeline/ColumnTransformer box that is\n",
       "clickable and can be expanded/collapsed.\n",
       "- Pipeline and ColumnTransformer use this feature and define the default style\n",
       "- Estimators will overwrite some part of the style using the `sk-estimator` class\n",
       "*/\n",
       "\n",
       "/* Pipeline and ColumnTransformer style (default) */\n",
       "\n",
       "#sk-container-id-1 div.sk-toggleable {\n",
       "  /* Default theme specific background. It is overwritten whether we have a\n",
       "  specific estimator or a Pipeline/ColumnTransformer */\n",
       "  background-color: var(--sklearn-color-background);\n",
       "}\n",
       "\n",
       "/* Toggleable label */\n",
       "#sk-container-id-1 label.sk-toggleable__label {\n",
       "  cursor: pointer;\n",
       "  display: block;\n",
       "  width: 100%;\n",
       "  margin-bottom: 0;\n",
       "  padding: 0.5em;\n",
       "  box-sizing: border-box;\n",
       "  text-align: center;\n",
       "}\n",
       "\n",
       "#sk-container-id-1 label.sk-toggleable__label-arrow:before {\n",
       "  /* Arrow on the left of the label */\n",
       "  content: \"▸\";\n",
       "  float: left;\n",
       "  margin-right: 0.25em;\n",
       "  color: var(--sklearn-color-icon);\n",
       "}\n",
       "\n",
       "#sk-container-id-1 label.sk-toggleable__label-arrow:hover:before {\n",
       "  color: var(--sklearn-color-text);\n",
       "}\n",
       "\n",
       "/* Toggleable content - dropdown */\n",
       "\n",
       "#sk-container-id-1 div.sk-toggleable__content {\n",
       "  max-height: 0;\n",
       "  max-width: 0;\n",
       "  overflow: hidden;\n",
       "  text-align: left;\n",
       "  /* unfitted */\n",
       "  background-color: var(--sklearn-color-unfitted-level-0);\n",
       "}\n",
       "\n",
       "#sk-container-id-1 div.sk-toggleable__content.fitted {\n",
       "  /* fitted */\n",
       "  background-color: var(--sklearn-color-fitted-level-0);\n",
       "}\n",
       "\n",
       "#sk-container-id-1 div.sk-toggleable__content pre {\n",
       "  margin: 0.2em;\n",
       "  border-radius: 0.25em;\n",
       "  color: var(--sklearn-color-text);\n",
       "  /* unfitted */\n",
       "  background-color: var(--sklearn-color-unfitted-level-0);\n",
       "}\n",
       "\n",
       "#sk-container-id-1 div.sk-toggleable__content.fitted pre {\n",
       "  /* unfitted */\n",
       "  background-color: var(--sklearn-color-fitted-level-0);\n",
       "}\n",
       "\n",
       "#sk-container-id-1 input.sk-toggleable__control:checked~div.sk-toggleable__content {\n",
       "  /* Expand drop-down */\n",
       "  max-height: 200px;\n",
       "  max-width: 100%;\n",
       "  overflow: auto;\n",
       "}\n",
       "\n",
       "#sk-container-id-1 input.sk-toggleable__control:checked~label.sk-toggleable__label-arrow:before {\n",
       "  content: \"▾\";\n",
       "}\n",
       "\n",
       "/* Pipeline/ColumnTransformer-specific style */\n",
       "\n",
       "#sk-container-id-1 div.sk-label input.sk-toggleable__control:checked~label.sk-toggleable__label {\n",
       "  color: var(--sklearn-color-text);\n",
       "  background-color: var(--sklearn-color-unfitted-level-2);\n",
       "}\n",
       "\n",
       "#sk-container-id-1 div.sk-label.fitted input.sk-toggleable__control:checked~label.sk-toggleable__label {\n",
       "  background-color: var(--sklearn-color-fitted-level-2);\n",
       "}\n",
       "\n",
       "/* Estimator-specific style */\n",
       "\n",
       "/* Colorize estimator box */\n",
       "#sk-container-id-1 div.sk-estimator input.sk-toggleable__control:checked~label.sk-toggleable__label {\n",
       "  /* unfitted */\n",
       "  background-color: var(--sklearn-color-unfitted-level-2);\n",
       "}\n",
       "\n",
       "#sk-container-id-1 div.sk-estimator.fitted input.sk-toggleable__control:checked~label.sk-toggleable__label {\n",
       "  /* fitted */\n",
       "  background-color: var(--sklearn-color-fitted-level-2);\n",
       "}\n",
       "\n",
       "#sk-container-id-1 div.sk-label label.sk-toggleable__label,\n",
       "#sk-container-id-1 div.sk-label label {\n",
       "  /* The background is the default theme color */\n",
       "  color: var(--sklearn-color-text-on-default-background);\n",
       "}\n",
       "\n",
       "/* On hover, darken the color of the background */\n",
       "#sk-container-id-1 div.sk-label:hover label.sk-toggleable__label {\n",
       "  color: var(--sklearn-color-text);\n",
       "  background-color: var(--sklearn-color-unfitted-level-2);\n",
       "}\n",
       "\n",
       "/* Label box, darken color on hover, fitted */\n",
       "#sk-container-id-1 div.sk-label.fitted:hover label.sk-toggleable__label.fitted {\n",
       "  color: var(--sklearn-color-text);\n",
       "  background-color: var(--sklearn-color-fitted-level-2);\n",
       "}\n",
       "\n",
       "/* Estimator label */\n",
       "\n",
       "#sk-container-id-1 div.sk-label label {\n",
       "  font-family: monospace;\n",
       "  font-weight: bold;\n",
       "  display: inline-block;\n",
       "  line-height: 1.2em;\n",
       "}\n",
       "\n",
       "#sk-container-id-1 div.sk-label-container {\n",
       "  text-align: center;\n",
       "}\n",
       "\n",
       "/* Estimator-specific */\n",
       "#sk-container-id-1 div.sk-estimator {\n",
       "  font-family: monospace;\n",
       "  border: 1px dotted var(--sklearn-color-border-box);\n",
       "  border-radius: 0.25em;\n",
       "  box-sizing: border-box;\n",
       "  margin-bottom: 0.5em;\n",
       "  /* unfitted */\n",
       "  background-color: var(--sklearn-color-unfitted-level-0);\n",
       "}\n",
       "\n",
       "#sk-container-id-1 div.sk-estimator.fitted {\n",
       "  /* fitted */\n",
       "  background-color: var(--sklearn-color-fitted-level-0);\n",
       "}\n",
       "\n",
       "/* on hover */\n",
       "#sk-container-id-1 div.sk-estimator:hover {\n",
       "  /* unfitted */\n",
       "  background-color: var(--sklearn-color-unfitted-level-2);\n",
       "}\n",
       "\n",
       "#sk-container-id-1 div.sk-estimator.fitted:hover {\n",
       "  /* fitted */\n",
       "  background-color: var(--sklearn-color-fitted-level-2);\n",
       "}\n",
       "\n",
       "/* Specification for estimator info (e.g. \"i\" and \"?\") */\n",
       "\n",
       "/* Common style for \"i\" and \"?\" */\n",
       "\n",
       ".sk-estimator-doc-link,\n",
       "a:link.sk-estimator-doc-link,\n",
       "a:visited.sk-estimator-doc-link {\n",
       "  float: right;\n",
       "  font-size: smaller;\n",
       "  line-height: 1em;\n",
       "  font-family: monospace;\n",
       "  background-color: var(--sklearn-color-background);\n",
       "  border-radius: 1em;\n",
       "  height: 1em;\n",
       "  width: 1em;\n",
       "  text-decoration: none !important;\n",
       "  margin-left: 1ex;\n",
       "  /* unfitted */\n",
       "  border: var(--sklearn-color-unfitted-level-1) 1pt solid;\n",
       "  color: var(--sklearn-color-unfitted-level-1);\n",
       "}\n",
       "\n",
       ".sk-estimator-doc-link.fitted,\n",
       "a:link.sk-estimator-doc-link.fitted,\n",
       "a:visited.sk-estimator-doc-link.fitted {\n",
       "  /* fitted */\n",
       "  border: var(--sklearn-color-fitted-level-1) 1pt solid;\n",
       "  color: var(--sklearn-color-fitted-level-1);\n",
       "}\n",
       "\n",
       "/* On hover */\n",
       "div.sk-estimator:hover .sk-estimator-doc-link:hover,\n",
       ".sk-estimator-doc-link:hover,\n",
       "div.sk-label-container:hover .sk-estimator-doc-link:hover,\n",
       ".sk-estimator-doc-link:hover {\n",
       "  /* unfitted */\n",
       "  background-color: var(--sklearn-color-unfitted-level-3);\n",
       "  color: var(--sklearn-color-background);\n",
       "  text-decoration: none;\n",
       "}\n",
       "\n",
       "div.sk-estimator.fitted:hover .sk-estimator-doc-link.fitted:hover,\n",
       ".sk-estimator-doc-link.fitted:hover,\n",
       "div.sk-label-container:hover .sk-estimator-doc-link.fitted:hover,\n",
       ".sk-estimator-doc-link.fitted:hover {\n",
       "  /* fitted */\n",
       "  background-color: var(--sklearn-color-fitted-level-3);\n",
       "  color: var(--sklearn-color-background);\n",
       "  text-decoration: none;\n",
       "}\n",
       "\n",
       "/* Span, style for the box shown on hovering the info icon */\n",
       ".sk-estimator-doc-link span {\n",
       "  display: none;\n",
       "  z-index: 9999;\n",
       "  position: relative;\n",
       "  font-weight: normal;\n",
       "  right: .2ex;\n",
       "  padding: .5ex;\n",
       "  margin: .5ex;\n",
       "  width: min-content;\n",
       "  min-width: 20ex;\n",
       "  max-width: 50ex;\n",
       "  color: var(--sklearn-color-text);\n",
       "  box-shadow: 2pt 2pt 4pt #999;\n",
       "  /* unfitted */\n",
       "  background: var(--sklearn-color-unfitted-level-0);\n",
       "  border: .5pt solid var(--sklearn-color-unfitted-level-3);\n",
       "}\n",
       "\n",
       ".sk-estimator-doc-link.fitted span {\n",
       "  /* fitted */\n",
       "  background: var(--sklearn-color-fitted-level-0);\n",
       "  border: var(--sklearn-color-fitted-level-3);\n",
       "}\n",
       "\n",
       ".sk-estimator-doc-link:hover span {\n",
       "  display: block;\n",
       "}\n",
       "\n",
       "/* \"?\"-specific style due to the `<a>` HTML tag */\n",
       "\n",
       "#sk-container-id-1 a.estimator_doc_link {\n",
       "  float: right;\n",
       "  font-size: 1rem;\n",
       "  line-height: 1em;\n",
       "  font-family: monospace;\n",
       "  background-color: var(--sklearn-color-background);\n",
       "  border-radius: 1rem;\n",
       "  height: 1rem;\n",
       "  width: 1rem;\n",
       "  text-decoration: none;\n",
       "  /* unfitted */\n",
       "  color: var(--sklearn-color-unfitted-level-1);\n",
       "  border: var(--sklearn-color-unfitted-level-1) 1pt solid;\n",
       "}\n",
       "\n",
       "#sk-container-id-1 a.estimator_doc_link.fitted {\n",
       "  /* fitted */\n",
       "  border: var(--sklearn-color-fitted-level-1) 1pt solid;\n",
       "  color: var(--sklearn-color-fitted-level-1);\n",
       "}\n",
       "\n",
       "/* On hover */\n",
       "#sk-container-id-1 a.estimator_doc_link:hover {\n",
       "  /* unfitted */\n",
       "  background-color: var(--sklearn-color-unfitted-level-3);\n",
       "  color: var(--sklearn-color-background);\n",
       "  text-decoration: none;\n",
       "}\n",
       "\n",
       "#sk-container-id-1 a.estimator_doc_link.fitted:hover {\n",
       "  /* fitted */\n",
       "  background-color: var(--sklearn-color-fitted-level-3);\n",
       "}\n",
       "</style><div id=\"sk-container-id-1\" class=\"sk-top-container\"><div class=\"sk-text-repr-fallback\"><pre>GridSearchCV(cv=3, estimator=RandomForestRegressor(random_state=42), n_jobs=-1,\n",
       "             param_grid={&#x27;bootstrap&#x27;: [True], &#x27;max_depth&#x27;: [None, 10],\n",
       "                         &#x27;max_features&#x27;: [&#x27;sqrt&#x27;, 0.3], &#x27;min_samples_leaf&#x27;: [5],\n",
       "                         &#x27;min_samples_split&#x27;: [2, 5],\n",
       "                         &#x27;n_estimators&#x27;: [500, 1000]},\n",
       "             verbose=2)</pre><b>In a Jupyter environment, please rerun this cell to show the HTML representation or trust the notebook. <br />On GitHub, the HTML representation is unable to render, please try loading this page with nbviewer.org.</b></div><div class=\"sk-container\" hidden><div class=\"sk-item sk-dashed-wrapped\"><div class=\"sk-label-container\"><div class=\"sk-label fitted sk-toggleable\"><input class=\"sk-toggleable__control sk-hidden--visually\" id=\"sk-estimator-id-1\" type=\"checkbox\" ><label for=\"sk-estimator-id-1\" class=\"sk-toggleable__label fitted sk-toggleable__label-arrow fitted\">&nbsp;&nbsp;GridSearchCV<a class=\"sk-estimator-doc-link fitted\" rel=\"noreferrer\" target=\"_blank\" href=\"https://scikit-learn.org/1.5/modules/generated/sklearn.model_selection.GridSearchCV.html\">?<span>Documentation for GridSearchCV</span></a><span class=\"sk-estimator-doc-link fitted\">i<span>Fitted</span></span></label><div class=\"sk-toggleable__content fitted\"><pre>GridSearchCV(cv=3, estimator=RandomForestRegressor(random_state=42), n_jobs=-1,\n",
       "             param_grid={&#x27;bootstrap&#x27;: [True], &#x27;max_depth&#x27;: [None, 10],\n",
       "                         &#x27;max_features&#x27;: [&#x27;sqrt&#x27;, 0.3], &#x27;min_samples_leaf&#x27;: [5],\n",
       "                         &#x27;min_samples_split&#x27;: [2, 5],\n",
       "                         &#x27;n_estimators&#x27;: [500, 1000]},\n",
       "             verbose=2)</pre></div> </div></div><div class=\"sk-parallel\"><div class=\"sk-parallel-item\"><div class=\"sk-item\"><div class=\"sk-label-container\"><div class=\"sk-label fitted sk-toggleable\"><input class=\"sk-toggleable__control sk-hidden--visually\" id=\"sk-estimator-id-2\" type=\"checkbox\" ><label for=\"sk-estimator-id-2\" class=\"sk-toggleable__label fitted sk-toggleable__label-arrow fitted\">best_estimator_: RandomForestRegressor</label><div class=\"sk-toggleable__content fitted\"><pre>RandomForestRegressor(max_features=0.3, min_samples_leaf=5, n_estimators=1000,\n",
       "                      random_state=42)</pre></div> </div></div><div class=\"sk-serial\"><div class=\"sk-item\"><div class=\"sk-estimator fitted sk-toggleable\"><input class=\"sk-toggleable__control sk-hidden--visually\" id=\"sk-estimator-id-3\" type=\"checkbox\" ><label for=\"sk-estimator-id-3\" class=\"sk-toggleable__label fitted sk-toggleable__label-arrow fitted\">&nbsp;RandomForestRegressor<a class=\"sk-estimator-doc-link fitted\" rel=\"noreferrer\" target=\"_blank\" href=\"https://scikit-learn.org/1.5/modules/generated/sklearn.ensemble.RandomForestRegressor.html\">?<span>Documentation for RandomForestRegressor</span></a></label><div class=\"sk-toggleable__content fitted\"><pre>RandomForestRegressor(max_features=0.3, min_samples_leaf=5, n_estimators=1000,\n",
       "                      random_state=42)</pre></div> </div></div></div></div></div></div></div></div></div>"
      ],
      "text/plain": [
       "GridSearchCV(cv=3, estimator=RandomForestRegressor(random_state=42), n_jobs=-1,\n",
       "             param_grid={'bootstrap': [True], 'max_depth': [None, 10],\n",
       "                         'max_features': ['sqrt', 0.3], 'min_samples_leaf': [5],\n",
       "                         'min_samples_split': [2, 5],\n",
       "                         'n_estimators': [500, 1000]},\n",
       "             verbose=2)"
      ]
     },
     "execution_count": 29,
     "metadata": {},
     "output_type": "execute_result"
    }
   ],
   "source": [
    "grid_search = GridSearchCV(estimator=rf, param_grid=param_grid, cv=3, n_jobs=-1, verbose=2)\n",
    "grid_search.fit(X_train, y_train_log)"
   ]
  },
  {
   "cell_type": "code",
   "execution_count": 30,
   "id": "251d3395-26fe-4e24-b48a-0a6722f5052d",
   "metadata": {},
   "outputs": [
    {
     "name": "stdout",
     "output_type": "stream",
     "text": [
      "Best Parameters: {'bootstrap': True, 'max_depth': None, 'max_features': 0.3, 'min_samples_leaf': 5, 'min_samples_split': 2, 'n_estimators': 1000}\n",
      "Best MSE: 0.64\n"
     ]
    }
   ],
   "source": [
    "best_params = grid_search.best_params_\n",
    "best_model = grid_search.best_estimator_\n",
    "print(f'Best Parameters: {best_params}')\n",
    "best_mse = grid_search.best_score_\n",
    "print(f'Best MSE: {best_mse:.2f}')"
   ]
  },
  {
   "cell_type": "markdown",
   "id": "c035b762-3b6e-4dd0-980e-cc44a9ec77f0",
   "metadata": {},
   "source": [
    "### Prediction with final model"
   ]
  },
  {
   "cell_type": "code",
   "execution_count": 31,
   "id": "d9ec07e3-0050-4afc-b427-774b1ea3780a",
   "metadata": {},
   "outputs": [],
   "source": [
    "y_test_log = best_model.predict(X_test)\n",
    "y_test = np.exp(y_test_log) - 1\n",
    "y_test = np.maximum(0, y_test)"
   ]
  },
  {
   "cell_type": "code",
   "execution_count": 32,
   "id": "a840b70c-a4ed-4202-a9f2-f72df0e3a881",
   "metadata": {},
   "outputs": [],
   "source": [
    "np.savetxt('mySubmission.txt', y_test, fmt='%.6f')"
   ]
  },
  {
   "cell_type": "code",
   "execution_count": null,
   "id": "2f292f47-65e5-4e02-8f06-b8562f506e5a",
   "metadata": {},
   "outputs": [],
   "source": []
  }
 ],
 "metadata": {
  "kernelspec": {
   "display_name": "Python 3 (ipykernel)",
   "language": "python",
   "name": "python3"
  },
  "language_info": {
   "codemirror_mode": {
    "name": "ipython",
    "version": 3
   },
   "file_extension": ".py",
   "mimetype": "text/x-python",
   "name": "python",
   "nbconvert_exporter": "python",
   "pygments_lexer": "ipython3",
   "version": "3.12.0"
  }
 },
 "nbformat": 4,
 "nbformat_minor": 5
}
